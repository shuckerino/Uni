{
 "cells": [
  {
   "cell_type": "code",
   "execution_count": 5,
   "metadata": {},
   "outputs": [
    {
     "name": "stdout",
     "output_type": "stream",
     "text": [
      "Initial configuration successfully done!\n"
     ]
    }
   ],
   "source": [
    "from ipywidgets import interact, interactive, fixed, interact_manual\n",
    "import ipywidgets as widgets\n",
    "import matplotlib as mpl\n",
    "from mpl_toolkits.mplot3d import Axes3D\n",
    "import numpy as np\n",
    "from numpy import linalg\n",
    "import matplotlib.pyplot as plt\n",
    "from matplotlib.patches import FancyArrowPatch\n",
    "from mpl_toolkits.mplot3d import proj3d\n",
    "import math\n",
    "import random\n",
    "from ipywidgets import Layout\n",
    "\n",
    "def plot_the_result(points, line_parameters):\n",
    "  figure = plt.figure()\n",
    "  ax = figure.add_subplot()\n",
    "  ax.set_xlim([-1,21])\n",
    "  ax.set_ylim([-15,45])\n",
    "  ax.set_title('Line Fitted Without RANSAC')\n",
    "  ax.scatter(points[0,:], points[1,:], cmap='Greens')\n",
    "  ax.plot([-10, 30], [-10 * line_parameters[0,0] + line_parameters[1,0], 30 * line_parameters[0,0]+ line_parameters[1,0]])\n",
    "\n",
    "print(\"Initial configuration successfully done!\")"
   ]
  },
  {
   "cell_type": "code",
   "execution_count": 6,
   "metadata": {},
   "outputs": [],
   "source": [
    "def execute_the_line_function(x):\n",
    "  return (x * 1.5 - 2)"
   ]
  },
  {
   "cell_type": "code",
   "execution_count": 7,
   "metadata": {},
   "outputs": [],
   "source": [
    "def generate_random_points_on_a_line(number_of_points):\n",
    "    generated_points = np.zeros((2, number_of_points))\n",
    "    for index in range(number_of_points):\n",
    "        generated_points[0,index] = random.uniform(0, 20)\n",
    "        generated_points[1,index] = execute_the_line_function(generated_points[0,index])\n",
    "    return generated_points"
   ]
  },
  {
   "cell_type": "code",
   "execution_count": 8,
   "metadata": {},
   "outputs": [
    {
     "name": "stdout",
     "output_type": "stream",
     "text": [
      "[[19.57654743  4.65398157 11.01751119 16.65815681  2.25328054 16.40346485\n",
      "  19.31486944 10.21240507  7.78972539 14.35236433]\n",
      " [27.36482115  4.98097235 14.52626679 22.98723522  1.37992082 22.60519728\n",
      "  26.97230416 13.31860761  9.68458809 19.52854649]]\n"
     ]
    }
   ],
   "source": [
    "some_points_for_test_purpose = generate_random_points_on_a_line(10)\n",
    "print(some_points_for_test_purpose)"
   ]
  },
  {
   "cell_type": "code",
   "execution_count": 9,
   "metadata": {},
   "outputs": [
    {
     "name": "stdout",
     "output_type": "stream",
     "text": [
      "Output for geeks:\n",
      "[[19.57654743  4.65398157 11.01751119 16.65815681  2.25328054 16.40346485\n",
      "  19.31486944 10.21240507  7.78972539 14.35236433]\n",
      " [27.36482115  4.98097235 14.52626679 22.98723522  1.37992082 22.60519728\n",
      "  26.97230416 13.31860761  9.68458809 19.52854649]]\n",
      "\n",
      "\n",
      "Output for human beings:\n",
      "x,y: (19.576547433065482, 27.36482114959822)\n",
      "x,y: (4.653981568742291, 4.980972353113437)\n",
      "x,y: (11.017511193615736, 14.526266790423605)\n",
      "x,y: (16.65815681423083, 22.987235221346243)\n",
      "x,y: (2.253280544789227, 1.37992081718384)\n",
      "x,y: (16.403464853624815, 22.605197280437224)\n",
      "x,y: (19.314869438264918, 26.972304157397375)\n",
      "x,y: (10.212405071776152, 13.318607607664227)\n",
      "x,y: (7.7897253926549155, 9.684588088982373)\n",
      "x,y: (14.3523643274513, 19.52854649117695)\n",
      "\n"
     ]
    }
   ],
   "source": [
    "def get_point_coordinates_formatted(points):\n",
    "  formatted_string = ''\n",
    "  for index in range(points.shape[1]):\n",
    "    formatted_string += f'x,y: {(points[0][index], points[1][index])}\\n'\n",
    "  return formatted_string\n",
    "\n",
    "print(f'Output for geeks:\\n{some_points_for_test_purpose}\\n\\n')\n",
    "print(f'Output for human beings:\\n{get_point_coordinates_formatted(some_points_for_test_purpose)}')"
   ]
  },
  {
   "cell_type": "code",
   "execution_count": 10,
   "metadata": {},
   "outputs": [
    {
     "name": "stdout",
     "output_type": "stream",
     "text": [
      "(2, 10)\n",
      "Output for geeks:\n",
      "[[20.56891169  3.84782472 12.77215672 16.29109381  3.03096737 16.42761978\n",
      "  20.08875789 10.09896862  7.54335933 13.18340498]\n",
      " [28.01655449  2.87283978 14.47260888 21.83228797  1.29148828 24.78877408\n",
      "  27.17527581 14.55125597  9.21240216 19.74362372]]\n",
      "\n",
      "\n",
      "Output for human beings:\n",
      "x,y: (20.568911685584133, 28.0165544894237)\n",
      "x,y: (3.847824724937812, 2.8728397783621844)\n",
      "x,y: (12.772156722931753, 14.47260888034344)\n",
      "x,y: (16.291093807548112, 21.832287970123833)\n",
      "x,y: (3.0309673664257777, 1.2914882789472528)\n",
      "x,y: (16.427619775369397, 24.78877408126649)\n",
      "x,y: (20.08875788662651, 27.175275809439317)\n",
      "x,y: (10.098968618302656, 14.55125597012251)\n",
      "x,y: (7.543359330537458, 9.212402157581392)\n",
      "x,y: (13.183404981264706, 19.74362371525163)\n",
      "\n"
     ]
    }
   ],
   "source": [
    "def add_noise_to_the_points(points, standard_deviation):\n",
    "    noisy_points = np.copy(points)\n",
    "    print(noisy_points.shape)\n",
    "    for i in range(noisy_points.shape[0]):\n",
    "        for j in range(noisy_points.shape[1]):\n",
    "            noisy_points[i,j] = noisy_points[i,j] + np.random.normal(0, standard_deviation)\n",
    "    return noisy_points\n",
    "\n",
    "points_with_some_noise = add_noise_to_the_points(some_points_for_test_purpose, 1)\n",
    "print(f'Output for geeks:\\n{points_with_some_noise}\\n\\n')\n",
    "print(f'Output for human beings:\\n{get_point_coordinates_formatted(points_with_some_noise)}')"
   ]
  },
  {
   "cell_type": "code",
   "execution_count": 11,
   "metadata": {},
   "outputs": [],
   "source": [
    "def add_some_outlier(points, number_of_outliers):\n",
    "    points_including_outliers = np.copy(points)\n",
    "    for i in range(number_of_outliers):\n",
    "        points_including_outliers[1,i] = points_including_outliers[1,i] + random.randint(5,15)\n",
    "\n",
    "    return points_including_outliers"
   ]
  },
  {
   "cell_type": "code",
   "execution_count": 12,
   "metadata": {},
   "outputs": [
    {
     "name": "stdout",
     "output_type": "stream",
     "text": [
      "Output for geeks:\n",
      "[[19.57654743  4.65398157 11.01751119 16.65815681  2.25328054 16.40346485\n",
      "  19.31486944 10.21240507  7.78972539 14.35236433]\n",
      " [40.36482115 16.98097235 29.52626679 22.98723522  1.37992082 22.60519728\n",
      "  26.97230416 13.31860761  9.68458809 19.52854649]]\n",
      "\n",
      "\n",
      "Output for human beings:\n",
      "x,y: (19.576547433065482, 40.36482114959822)\n",
      "x,y: (4.653981568742291, 16.980972353113437)\n",
      "x,y: (11.017511193615736, 29.526266790423605)\n",
      "x,y: (16.65815681423083, 22.987235221346243)\n",
      "x,y: (2.253280544789227, 1.37992081718384)\n",
      "x,y: (16.403464853624815, 22.605197280437224)\n",
      "x,y: (19.314869438264918, 26.972304157397375)\n",
      "x,y: (10.212405071776152, 13.318607607664227)\n",
      "x,y: (7.7897253926549155, 9.684588088982373)\n",
      "x,y: (14.3523643274513, 19.52854649117695)\n",
      "\n"
     ]
    }
   ],
   "source": [
    "points_with_some_outliers = add_some_outlier(some_points_for_test_purpose, 3)\n",
    "print(f'Output for geeks:\\n{points_with_some_outliers}\\n\\n')\n",
    "print(f'Output for human beings:\\n{get_point_coordinates_formatted(points_with_some_outliers)}')"
   ]
  },
  {
   "cell_type": "code",
   "execution_count": 13,
   "metadata": {},
   "outputs": [
    {
     "name": "stdout",
     "output_type": "stream",
     "text": [
      "True\n",
      "False\n"
     ]
    }
   ],
   "source": [
    "def is_this_point_an_inlier(point, consensus_threshold, line_function):\n",
    "    p1=np.array([0, line_function(0)])\n",
    "    p2=np.array([1, line_function(1)])\n",
    "    distance = np.linalg.norm(np.cross(p2 - p1, point - p1)) / np.linalg.norm(p2 - p1)\n",
    "    if distance <= consensus_threshold:\n",
    "        return True\n",
    "    else:\n",
    "        return False\n",
    "\n",
    "print(is_this_point_an_inlier([18.01614331, 25.02421496], 2, execute_the_line_function))\n",
    "print(is_this_point_an_inlier([18.01614330564956, 31.02421495847434], 2, execute_the_line_function))"
   ]
  },
  {
   "cell_type": "code",
   "execution_count": 14,
   "metadata": {},
   "outputs": [],
   "source": [
    "# siehe Folie 21\n",
    "def fit_a_line_without_ransac(points):\n",
    "  pass"
   ]
  },
  {
   "cell_type": "code",
   "execution_count": 15,
   "metadata": {},
   "outputs": [],
   "source": [
    "\n",
    "def fit_a_line_with_ransac(points,\n",
    "                           consensus_threshold,\n",
    "                           minimum_number_of_consensus_set_size,\n",
    "                           maximum_number_of_iterations):\n",
    "  pass"
   ]
  }
 ],
 "metadata": {
  "kernelspec": {
   "display_name": "Python 3",
   "language": "python",
   "name": "python3"
  },
  "language_info": {
   "codemirror_mode": {
    "name": "ipython",
    "version": 3
   },
   "file_extension": ".py",
   "mimetype": "text/x-python",
   "name": "python",
   "nbconvert_exporter": "python",
   "pygments_lexer": "ipython3",
   "version": "3.10.12"
  }
 },
 "nbformat": 4,
 "nbformat_minor": 2
}
